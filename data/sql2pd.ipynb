{
 "cells": [
  {
   "cell_type": "code",
   "execution_count": null,
   "metadata": {},
   "outputs": [],
   "source": [
    "import pandas as pd\n",
    "from pyspark.sql import SparkSession\n",
    "spark = SparkSession.builder.appName('qliu_tmp').enableHiveSupport().config(\"spark.sql.catalogImplementation\", \"hive\") \\\n",
    "    .config('spark.sql.execution.arrow.pyspark.enabled', True) \\\n",
    "    .config('spark.sql.session.timeZone', 'UTC') \\\n",
    "    .config('spark.driver.memory', '32G') \\\n",
    "    .config('spark.ui.showConsoleProgress', True) \\\n",
    "    .config('spark.sql.repl.eagerEval.enabled', True) \\\n",
    "    .config(\"spark.default.parallelism\", \"5\") \\\n",
    "    .getOrCreate()\n",
    "sql = '''\n",
    "  SELECT *\n",
    "  FROM\n",
    "    dw_mobdb.adm_gs_lvpai_info_all\n",
    "  LIMIT 5000\n",
    "'''\n",
    "\n",
    "df = spark.sql(sql)\n",
    "df = df.toPandas()"
   ]
  }
 ],
 "metadata": {
  "language_info": {
   "name": "python"
  }
 },
 "nbformat": 4,
 "nbformat_minor": 2
}
