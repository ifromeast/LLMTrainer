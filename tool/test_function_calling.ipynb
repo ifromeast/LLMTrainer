{
 "cells": [
  {
   "cell_type": "code",
   "execution_count": 2,
   "id": "662a2ff1-d854-41d3-b7c5-a32bc6420983",
   "metadata": {},
   "outputs": [
    {
     "name": "stderr",
     "output_type": "stream",
     "text": [
      "/root/miniconda3/envs/zzd-env/lib/python3.10/site-packages/tqdm/auto.py:21: TqdmWarning: IProgress not found. Please update jupyter and ipywidgets. See https://ipywidgets.readthedocs.io/en/stable/user_install.html\n",
      "  from .autonotebook import tqdm as notebook_tqdm\n",
      "Loading checkpoint shards: 100%|██████████| 7/7 [01:48<00:00, 15.44s/it]\n"
     ]
    }
   ],
   "source": [
    "\n",
    "import os\n",
    "import ast\n",
    "import json\n",
    "os.environ['CUDA_VISIBLE_DEVICES'] = '5'\n",
    "from client import HFClient\n",
    "MAX_LENGTH = 4096\n",
    "TRUNCATE_LENGTH = 1024\n",
    "\n",
    "MODEL_PATH = TOKENIZER_PATH = \"/data/share_user/zzd/ckpt/chatglm3-6b\"\n",
    "client = HFClient(MODEL_PATH, TOKENIZER_PATH, None)"
   ]
  },
  {
   "cell_type": "code",
   "execution_count": 3,
   "id": "f317176f-3271-480b-96dc-3743ca11c7ac",
   "metadata": {},
   "outputs": [
    {
     "name": "stdout",
     "output_type": "stream",
     "text": [
      "[registered tool] {'description': 'Generates a random number x, s.t. range[0] <= x < range[1]',\n",
      " 'name': 'random_number_generator',\n",
      " 'params': [{'description': 'The random seed used by the generator',\n",
      "             'name': 'seed',\n",
      "             'required': True,\n",
      "             'type': 'int'},\n",
      "            {'description': 'The range of the generated numbers',\n",
      "             'name': 'range',\n",
      "             'required': True,\n",
      "             'type': 'tuple[int, int]'}]}\n",
      "[registered tool] {'description': 'Get the current weather for `city_name`',\n",
      " 'name': 'get_weather',\n",
      " 'params': [{'description': 'The name of the city to be queried',\n",
      "             'name': 'city_name',\n",
      "             'required': True,\n",
      "             'type': 'str'}]}\n"
     ]
    },
    {
     "name": "stderr",
     "output_type": "stream",
     "text": [
      "  0%|          | 0/300 [00:00<?, ?it/s]"
     ]
    },
    {
     "name": "stdout",
     "output_type": "stream",
     "text": [
      "input_shape> torch.Size([1, 292])\n",
      "input_shape> torch.Size([1, 316])\n",
      "input_shape> torch.Size([1, 400])\n"
     ]
    },
    {
     "name": "stderr",
     "output_type": "stream",
     "text": [
      "  0%|          | 0/300 [00:03<?, ?it/s]\n"
     ]
    }
   ],
   "source": [
    "dataset =  json.load(open(f'/data/share_user/zzd/data/rlhf_data/sft_data_v4/tmp_data/weather_data_tmp.json', 'rb'))\n",
    "from tqdm import tqdm\n",
    "from conversation import postprocess_text, preprocess_text, Conversation, Role\n",
    "from tool_registry import dispatch_tool, get_tools\n",
    "tools = get_tools()\n",
    "\n",
    "for i in tqdm(range(len(dataset))):\n",
    "    history: list[Conversation] = []\n",
    "\n",
    "    messages = dataset[i]['conversations']\n",
    "\n",
    "    for conv in messages:\n",
    "        if conv['role'] == 'user':\n",
    "            history.append(Conversation(Role.USER, conv['content']))\n",
    "        elif conv['role'] == 'tool':\n",
    "            tool, *output_text = conv['content'].replace('location', 'city_name').strip().split('\\n')\n",
    "            output_text = '\\n'.join(output_text)\n",
    "            history.append(Conversation(Role.TOOL,postprocess_text(output_text),tool,))\n",
    "        elif conv['role'] == 'observation':\n",
    "            history.append(Conversation(Role.OBSERVATION, conv['content']))\n",
    "\n",
    "        output_text = ''\n",
    "        for response in client.generate_stream(\n",
    "                        system=None,\n",
    "                        tools=tools,\n",
    "                        history=history,\n",
    "                        do_sample=True,\n",
    "                        max_length=MAX_LENGTH,\n",
    "                        temperature=1.0,\n",
    "                        top_p=0.95,\n",
    "                        stop_sequences=[str(r) for r in (Role.USER, Role.OBSERVATION)],\n",
    "                    ):\n",
    "            output_text += response.token.text\n",
    "    dataset[i]['conversations'].append({'role':'assistant', 'content':output_text})\n",
    "    break\n"
   ]
  },
  {
   "cell_type": "code",
   "execution_count": 6,
   "id": "3e66210b-0848-48c1-b6af-c468d8b5a94f",
   "metadata": {},
   "outputs": [
    {
     "data": {
      "text/plain": [
       "{'conversations': [{'role': 'user', 'content': '能否告诉我山海关区天下第一关现在的天气情况？'},\n",
       "  {'role': 'tool',\n",
       "   'content': \"get_weather\\n ```python\\ntool_call(location='山海关区天下第一关')\\n```\"},\n",
       "  {'role': 'observation',\n",
       "   'content': \"{'lives': {'province': '河北', 'city': '山海关区', 'temperature': '8', 'humidity': '55', 'weather': '晴', 'winddirection': '东', 'windpower': '≤3', 'reporttime': '2023-12-07 15:06:53'}}\"},\n",
       "  {'role': 'assistant',\n",
       "   'content': '\\n 山海关区天下第一关目前的天气情况为晴，气温为8摄氏度，相对湿度为55%，风向为东风，风力为≤3。这些信息是来自于天下第一关的实时天气预报，更新时间为2023年12月7日15:06:53。'}],\n",
       " 'id': 0}"
      ]
     },
     "execution_count": 6,
     "metadata": {},
     "output_type": "execute_result"
    }
   ],
   "source": [
    "dataset[0]"
   ]
  },
  {
   "cell_type": "code",
   "execution_count": 5,
   "id": "4e960ea2-30d9-46ff-a715-e6f1fbf1b5e0",
   "metadata": {},
   "outputs": [
    {
     "name": "stdout",
     "output_type": "stream",
     "text": [
      "[Conversation(role=<Role.USER: 2>, content='能否告诉我山海关区天下第一关现在的天气情况？', tool=None, image=None), Conversation(role=<Role.TOOL: 4>, content=\"```python\\ntool_call(city_name='山海关区天下第一关')\\n```\", tool='get_weather', image=None), Conversation(role=<Role.OBSERVATION: 6>, content=\"{'lives': {'province': '河北', 'city': '山海关区', 'temperature': '8', 'humidity': '55', 'weather': '晴', 'winddirection': '东', 'windpower': '≤3', 'reporttime': '2023-12-07 15:06:53'}}\", tool=None, image=None)]\n"
     ]
    },
    {
     "data": {
      "text/plain": [
       "'\\n 山海关区天下第一关目前的天气情况为晴，气温为8摄氏度，相对湿度为55%，风向为东风，风力为≤3。这些信息是来自于天下第一关的实时天气预报，更新时间为2023年12月7日15:06:53。'"
      ]
     },
     "execution_count": 5,
     "metadata": {},
     "output_type": "execute_result"
    }
   ],
   "source": [
    "print(history)\n",
    "output_text"
   ]
  },
  {
   "cell_type": "code",
   "execution_count": 9,
   "id": "5f50a9c8-619a-4714-bd14-b2ef19750643",
   "metadata": {},
   "outputs": [],
   "source": [
    "new_file_path = '/data/share_user/zzd/data/rlhf_data/sft_data_v4/weather_data_done.json'\n",
    "with open(new_file_path, \"w\", encoding=\"utf-8\") as dump_f:\n",
    "    json.dump(dataset, dump_f, ensure_ascii=False)"
   ]
  },
  {
   "cell_type": "code",
   "execution_count": null,
   "id": "c9f58a74-18c3-40c4-bbe2-4118f99861da",
   "metadata": {},
   "outputs": [],
   "source": []
  },
  {
   "cell_type": "code",
   "execution_count": 1,
   "id": "aa4cfc89-73af-464a-a38e-50a4827da9df",
   "metadata": {},
   "outputs": [
    {
     "name": "stdout",
     "output_type": "stream",
     "text": [
      "[registered tool] {'description': 'Generates a random number x, s.t. range[0] <= x < range[1]',\n",
      " 'name': 'random_number_generator',\n",
      " 'params': [{'description': 'The random seed used by the generator',\n",
      "             'name': 'seed',\n",
      "             'required': True,\n",
      "             'type': 'int'},\n",
      "            {'description': 'The range of the generated numbers',\n",
      "             'name': 'range',\n",
      "             'required': True,\n",
      "             'type': 'tuple[int, int]'}]}\n",
      "[registered tool] {'description': 'Get the current weather for `city_name`',\n",
      " 'name': 'get_weather',\n",
      " 'params': [{'description': 'The name of the city to be queried',\n",
      "             'name': 'city_name',\n",
      "             'required': True,\n",
      "             'type': 'str'}]}\n"
     ]
    },
    {
     "data": {
      "text/plain": [
       "{'name': 'get_weather',\n",
       " 'description': 'Get the current weather for `city_name`',\n",
       " 'params': [{'name': 'city_name',\n",
       "   'description': 'The name of the city to be queried',\n",
       "   'type': 'str',\n",
       "   'required': True}]}"
      ]
     },
     "execution_count": 1,
     "metadata": {},
     "output_type": "execute_result"
    }
   ],
   "source": [
    "from tool_registry import dispatch_tool, get_tools\n",
    "tools = get_tools()\n",
    "tools['get_weather']"
   ]
  },
  {
   "cell_type": "code",
   "execution_count": 5,
   "id": "f87fb4e0-3833-44c3-91d9-e56e292f3526",
   "metadata": {},
   "outputs": [
    {
     "data": {
      "text/plain": [
       "['random_number_generator', 'get_weather']"
      ]
     },
     "execution_count": 5,
     "metadata": {},
     "output_type": "execute_result"
    }
   ],
   "source": [
    "list(tools.keys())"
   ]
  },
  {
   "cell_type": "code",
   "execution_count": 3,
   "id": "9335124e-d364-4693-86c8-db100fa4149f",
   "metadata": {},
   "outputs": [
    {
     "name": "stdout",
     "output_type": "stream",
     "text": [
      "[Conversation(role=<Role.USER: 2>, content='查查北京的天气情况', tool=None, image=None)]\n",
      "<|user|> 查查北京的天气情况 None\n",
      "<|system|>\n",
      "Answer the following questions as best as you can. You have access to the following tools:\n",
      "{\"random_number_generator\": {\"name\": \"random_number_generator\", \"description\": \"Generates a random number x, s.t. range[0] <= x < range[1]\", \"params\": [{\"name\": \"seed\", \"description\": \"The random seed used by the generator\", \"type\": \"int\", \"required\": true}, {\"name\": \"range\", \"description\": \"The range of the generated numbers\", \"type\": \"tuple[int, int]\", \"required\": true}]}, \"get_weather\": {\"name\": \"get_weather\", \"description\": \"Get the current weather for `city_name`\", \"params\": [{\"name\": \"city_name\", \"description\": \"The name of the city to be queried\", \"type\": \"str\", \"required\": true}]}}<|user|>\n",
      "查查北京的天气情况<|assistant|>\n",
      "\n"
     ]
    }
   ],
   "source": [
    "from conversation import postprocess_text, preprocess_text, Conversation, Role\n",
    "\n",
    "\n",
    "prompt_text = \"查查北京的天气情况\"\n",
    "prompt_text = prompt_text.strip()\n",
    "calling_tool = False\n",
    "role = calling_tool and Role.OBSERVATION or Role.USER\n",
    "\n",
    "history: list[Conversation] = []\n",
    "history.append(Conversation(role, prompt_text))\n",
    "print(history)\n",
    "input_text = preprocess_text(None, tools, history,)\n",
    "print(input_text)\n"
   ]
  },
  {
   "cell_type": "code",
   "execution_count": 4,
   "id": "3460670d-5f78-4ed5-bebf-d17cc038b188",
   "metadata": {},
   "outputs": [
    {
     "name": "stdout",
     "output_type": "stream",
     "text": [
      "input_shape> torch.Size([1, 285])\n",
      "TextGenerationStreamResponse(token=Token(id=0, text='get', logprob=0.0, special=False), generated_text='get', details=None)\n",
      "TextGenerationStreamResponse(token=Token(id=0, text='_', logprob=0.0, special=False), generated_text='get_', details=None)\n",
      "TextGenerationStreamResponse(token=Token(id=0, text='weather', logprob=0.0, special=False), generated_text='get_weather', details=None)\n",
      "TextGenerationStreamResponse(token=Token(id=0, text='\\n', logprob=0.0, special=False), generated_text='get_weather\\n', details=None)\n",
      "TextGenerationStreamResponse(token=Token(id=0, text=' ```', logprob=0.0, special=False), generated_text='get_weather\\n ```', details=None)\n",
      "TextGenerationStreamResponse(token=Token(id=0, text='python', logprob=0.0, special=False), generated_text='get_weather\\n ```python', details=None)\n",
      "TextGenerationStreamResponse(token=Token(id=0, text='\\n', logprob=0.0, special=False), generated_text='get_weather\\n ```python\\n', details=None)\n",
      "TextGenerationStreamResponse(token=Token(id=0, text='tool', logprob=0.0, special=False), generated_text='get_weather\\n ```python\\ntool', details=None)\n",
      "TextGenerationStreamResponse(token=Token(id=0, text='_', logprob=0.0, special=False), generated_text='get_weather\\n ```python\\ntool_', details=None)\n",
      "TextGenerationStreamResponse(token=Token(id=0, text='call', logprob=0.0, special=False), generated_text='get_weather\\n ```python\\ntool_call', details=None)\n",
      "TextGenerationStreamResponse(token=Token(id=0, text='(', logprob=0.0, special=False), generated_text='get_weather\\n ```python\\ntool_call(', details=None)\n",
      "TextGenerationStreamResponse(token=Token(id=0, text='city', logprob=0.0, special=False), generated_text='get_weather\\n ```python\\ntool_call(city', details=None)\n",
      "TextGenerationStreamResponse(token=Token(id=0, text='_', logprob=0.0, special=False), generated_text='get_weather\\n ```python\\ntool_call(city_', details=None)\n",
      "TextGenerationStreamResponse(token=Token(id=0, text='name', logprob=0.0, special=False), generated_text='get_weather\\n ```python\\ntool_call(city_name', details=None)\n",
      "TextGenerationStreamResponse(token=Token(id=0, text=\"='\", logprob=0.0, special=False), generated_text=\"get_weather\\n ```python\\ntool_call(city_name='\", details=None)\n",
      "TextGenerationStreamResponse(token=Token(id=0, text='北京', logprob=0.0, special=False), generated_text=\"get_weather\\n ```python\\ntool_call(city_name='北京\", details=None)\n",
      "TextGenerationStreamResponse(token=Token(id=0, text=\"')\", logprob=0.0, special=False), generated_text=\"get_weather\\n ```python\\ntool_call(city_name='北京')\", details=None)\n",
      "TextGenerationStreamResponse(token=Token(id=0, text='\\n', logprob=0.0, special=False), generated_text=\"get_weather\\n ```python\\ntool_call(city_name='北京')\\n\", details=None)\n",
      "TextGenerationStreamResponse(token=Token(id=0, text='``', logprob=0.0, special=False), generated_text=\"get_weather\\n ```python\\ntool_call(city_name='北京')\\n``\", details=None)\n",
      "TextGenerationStreamResponse(token=Token(id=0, text='`', logprob=0.0, special=False), generated_text=\"get_weather\\n ```python\\ntool_call(city_name='北京')\\n```\", details=None)\n",
      "TextGenerationStreamResponse(token=Token(id=0, text='<|observation|>', logprob=0.0, special=True), generated_text=\"get_weather\\n ```python\\ntool_call(city_name='北京')\\n```<|observation|>\", details=None)\n"
     ]
    }
   ],
   "source": [
    "output_text = ''\n",
    "for response in client.generate_stream(\n",
    "                system=None,\n",
    "                tools=tools,\n",
    "                history=history,\n",
    "                do_sample=True,\n",
    "                max_length=MAX_LENGTH,\n",
    "                temperature=1.0,\n",
    "                top_p=0.95,\n",
    "                stop_sequences=[str(r) for r in (Role.USER, Role.OBSERVATION)],\n",
    "            ):\n",
    "    output_text += response.token.text\n",
    "    print(response)\n",
    "    "
   ]
  },
  {
   "cell_type": "code",
   "execution_count": 5,
   "id": "ebbc8a0b-9517-462e-b47e-35193cfe4dfd",
   "metadata": {},
   "outputs": [
    {
     "name": "stdout",
     "output_type": "stream",
     "text": [
      "Token(id=0, text='<|observation|>', logprob=0.0, special=True)\n",
      "get_weather\n",
      " ```python\n",
      "tool_call(city_name='北京')\n",
      "```<|observation|>\n",
      "[Conversation(role=<Role.USER: 2>, content='查查北京的天气情况', tool=None, image=None), Conversation(role=<Role.TOOL: 4>, content=\"```python\\ntool_call(city_name='北京')\\n```\", tool='get_weather', image=None)]\n"
     ]
    }
   ],
   "source": [
    "token = response.token\n",
    "print(token)\n",
    "print(output_text)\n",
    "match token.text.strip():\n",
    "    case '<|user|>':\n",
    "        history.append(Conversation(Role.ASSISTANT, postprocess_text(output_text),))\n",
    "        # return\n",
    "    # Initiate tool call\n",
    "    case '<|assistant|>':\n",
    "        history.append(Conversation(Role.ASSISTANT, postprocess_text(output_text),))\n",
    "        output_text = ''\n",
    "        # continue\n",
    "    case '<|observation|>':\n",
    "        tool, *output_text = output_text.strip().split('\\n')\n",
    "        output_text = '\\n'.join(output_text)\n",
    "        \n",
    "        history.append(Conversation(Role.TOOL,postprocess_text(output_text),tool,))\n",
    "print(history)"
   ]
  },
  {
   "cell_type": "code",
   "execution_count": 6,
   "id": "7964226a-abde-4539-9a1e-b1f2e7ad94ad",
   "metadata": {},
   "outputs": [
    {
     "name": "stdout",
     "output_type": "stream",
     "text": [
      " ```python\n",
      "tool_call(city_name='北京')\n",
      "```<|observation|>\n",
      "tool_call(city_name='北京')\n",
      "\n",
      "=== Tool call:\n",
      "()\n",
      "{'city_name': '北京'}\n",
      "{'lives': {'province': '北京', 'city': '北京市', 'temperature': '2', 'humidity': '24', 'weather': '晴', 'winddirection': '西', 'windpower': '≤3', 'reporttime': '2023-11-30 17:40:10'}}\n"
     ]
    }
   ],
   "source": [
    "print(output_text)\n",
    "\n",
    "import re\n",
    "os.environ['http_proxy'] = 'http://proxygate2.ctripcorp.com:8080'\n",
    "os.environ['https_proxy'] = 'http://proxygate2.ctripcorp.com:8080'\n",
    "\n",
    "def extract_code(text: str) -> str:\n",
    "    pattern = r'```([^\\n]*)\\n(.*?)```'\n",
    "    matches = re.findall(pattern, text, re.DOTALL)\n",
    "    return matches[-1][1]\n",
    "\n",
    "def tool_call(*args, **kwargs) -> dict:\n",
    "    print(\"=== Tool call:\")\n",
    "    print(args)\n",
    "    print(kwargs)\n",
    "    return kwargs\n",
    "\n",
    "code = extract_code(output_text)\n",
    "print(code)\n",
    "\n",
    "args = eval(code, {'tool_call': tool_call}, {})\n",
    "\n",
    "from tool_registry import dispatch_tool\n",
    "observation = dispatch_tool(tool, args)\n",
    "print(observation)\n",
    "\n",
    "history.append(Conversation(Role.OBSERVATION, observation))"
   ]
  },
  {
   "cell_type": "code",
   "execution_count": 7,
   "id": "6ad97432-1252-446f-a99c-6fa7aa705c48",
   "metadata": {},
   "outputs": [
    {
     "data": {
      "text/plain": [
       "<function __main__.tool_call(*args, **kwargs) -> dict>"
      ]
     },
     "execution_count": 7,
     "metadata": {},
     "output_type": "execute_result"
    }
   ],
   "source": [
    "tool_call"
   ]
  },
  {
   "cell_type": "code",
   "execution_count": 8,
   "id": "9cf3d3bf-8b4d-42bd-b779-dacf7baad119",
   "metadata": {},
   "outputs": [
    {
     "data": {
      "text/plain": [
       "[Conversation(role=<Role.USER: 2>, content='查查北京的天气情况', tool=None, image=None),\n",
       " Conversation(role=<Role.TOOL: 4>, content=\"```python\\ntool_call(city_name='北京')\\n```\", tool='get_weather', image=None),\n",
       " Conversation(role=<Role.OBSERVATION: 6>, content=\"{'lives': {'province': '北京', 'city': '北京市', 'temperature': '2', 'humidity': '24', 'weather': '晴', 'winddirection': '西', 'windpower': '≤3', 'reporttime': '2023-11-30 17:40:10'}}\", tool=None, image=None)]"
      ]
     },
     "execution_count": 8,
     "metadata": {},
     "output_type": "execute_result"
    }
   ],
   "source": [
    "history"
   ]
  },
  {
   "cell_type": "code",
   "execution_count": 9,
   "id": "e17f5892-de7b-46de-903b-791e884dcfc1",
   "metadata": {},
   "outputs": [
    {
     "name": "stdout",
     "output_type": "stream",
     "text": [
      "input_shape> torch.Size([1, 386])\n",
      "TextGenerationStreamResponse(token=Token(id=0, text='\\n', logprob=0.0, special=False), generated_text='\\n', details=None)\n",
      "TextGenerationStreamResponse(token=Token(id=0, text=' 北京', logprob=0.0, special=False), generated_text='\\n 北京', details=None)\n",
      "TextGenerationStreamResponse(token=Token(id=0, text='目前的', logprob=0.0, special=False), generated_text='\\n 北京目前的', details=None)\n",
      "TextGenerationStreamResponse(token=Token(id=0, text='天气', logprob=0.0, special=False), generated_text='\\n 北京目前的天气', details=None)\n",
      "TextGenerationStreamResponse(token=Token(id=0, text='情况', logprob=0.0, special=False), generated_text='\\n 北京目前的天气情况', details=None)\n",
      "TextGenerationStreamResponse(token=Token(id=0, text='是', logprob=0.0, special=False), generated_text='\\n 北京目前的天气情况是', details=None)\n",
      "TextGenerationStreamResponse(token=Token(id=0, text='晴', logprob=0.0, special=False), generated_text='\\n 北京目前的天气情况是晴', details=None)\n",
      "TextGenerationStreamResponse(token=Token(id=0, text='朗', logprob=0.0, special=False), generated_text='\\n 北京目前的天气情况是晴朗', details=None)\n",
      "TextGenerationStreamResponse(token=Token(id=0, text='的', logprob=0.0, special=False), generated_text='\\n 北京目前的天气情况是晴朗的', details=None)\n",
      "TextGenerationStreamResponse(token=Token(id=0, text='，', logprob=0.0, special=False), generated_text='\\n 北京目前的天气情况是晴朗的，', details=None)\n",
      "TextGenerationStreamResponse(token=Token(id=0, text='温度', logprob=0.0, special=False), generated_text='\\n 北京目前的天气情况是晴朗的，温度', details=None)\n",
      "TextGenerationStreamResponse(token=Token(id=0, text='为', logprob=0.0, special=False), generated_text='\\n 北京目前的天气情况是晴朗的，温度为', details=None)\n",
      "TextGenerationStreamResponse(token=Token(id=0, text='2', logprob=0.0, special=False), generated_text='\\n 北京目前的天气情况是晴朗的，温度为2', details=None)\n",
      "TextGenerationStreamResponse(token=Token(id=0, text='℃，', logprob=0.0, special=False), generated_text='\\n 北京目前的天气情况是晴朗的，温度为2℃，', details=None)\n",
      "TextGenerationStreamResponse(token=Token(id=0, text='湿度', logprob=0.0, special=False), generated_text='\\n 北京目前的天气情况是晴朗的，温度为2℃，湿度', details=None)\n",
      "TextGenerationStreamResponse(token=Token(id=0, text='为', logprob=0.0, special=False), generated_text='\\n 北京目前的天气情况是晴朗的，温度为2℃，湿度为', details=None)\n",
      "TextGenerationStreamResponse(token=Token(id=0, text='2', logprob=0.0, special=False), generated_text='\\n 北京目前的天气情况是晴朗的，温度为2℃，湿度为2', details=None)\n",
      "TextGenerationStreamResponse(token=Token(id=0, text='4', logprob=0.0, special=False), generated_text='\\n 北京目前的天气情况是晴朗的，温度为2℃，湿度为24', details=None)\n",
      "TextGenerationStreamResponse(token=Token(id=0, text='%，', logprob=0.0, special=False), generated_text='\\n 北京目前的天气情况是晴朗的，温度为2℃，湿度为24%，', details=None)\n",
      "TextGenerationStreamResponse(token=Token(id=0, text='风向', logprob=0.0, special=False), generated_text='\\n 北京目前的天气情况是晴朗的，温度为2℃，湿度为24%，风向', details=None)\n",
      "TextGenerationStreamResponse(token=Token(id=0, text='为', logprob=0.0, special=False), generated_text='\\n 北京目前的天气情况是晴朗的，温度为2℃，湿度为24%，风向为', details=None)\n",
      "TextGenerationStreamResponse(token=Token(id=0, text='西', logprob=0.0, special=False), generated_text='\\n 北京目前的天气情况是晴朗的，温度为2℃，湿度为24%，风向为西', details=None)\n",
      "TextGenerationStreamResponse(token=Token(id=0, text='风', logprob=0.0, special=False), generated_text='\\n 北京目前的天气情况是晴朗的，温度为2℃，湿度为24%，风向为西风', details=None)\n",
      "TextGenerationStreamResponse(token=Token(id=0, text='，', logprob=0.0, special=False), generated_text='\\n 北京目前的天气情况是晴朗的，温度为2℃，湿度为24%，风向为西风，', details=None)\n",
      "TextGenerationStreamResponse(token=Token(id=0, text='风力', logprob=0.0, special=False), generated_text='\\n 北京目前的天气情况是晴朗的，温度为2℃，湿度为24%，风向为西风，风力', details=None)\n",
      "TextGenerationStreamResponse(token=Token(id=0, text='为', logprob=0.0, special=False), generated_text='\\n 北京目前的天气情况是晴朗的，温度为2℃，湿度为24%，风向为西风，风力为', details=None)\n",
      "TextGenerationStreamResponse(token=Token(id=0, text='≤', logprob=0.0, special=False), generated_text='\\n 北京目前的天气情况是晴朗的，温度为2℃，湿度为24%，风向为西风，风力为≤', details=None)\n",
      "TextGenerationStreamResponse(token=Token(id=0, text='3', logprob=0.0, special=False), generated_text='\\n 北京目前的天气情况是晴朗的，温度为2℃，湿度为24%，风向为西风，风力为≤3', details=None)\n",
      "TextGenerationStreamResponse(token=Token(id=0, text='。', logprob=0.0, special=False), generated_text='\\n 北京目前的天气情况是晴朗的，温度为2℃，湿度为24%，风向为西风，风力为≤3。', details=None)\n",
      "TextGenerationStreamResponse(token=Token(id=0, text='这是', logprob=0.0, special=False), generated_text='\\n 北京目前的天气情况是晴朗的，温度为2℃，湿度为24%，风向为西风，风力为≤3。这是', details=None)\n",
      "TextGenerationStreamResponse(token=Token(id=0, text='最新的', logprob=0.0, special=False), generated_text='\\n 北京目前的天气情况是晴朗的，温度为2℃，湿度为24%，风向为西风，风力为≤3。这是最新的', details=None)\n",
      "TextGenerationStreamResponse(token=Token(id=0, text='天气', logprob=0.0, special=False), generated_text='\\n 北京目前的天气情况是晴朗的，温度为2℃，湿度为24%，风向为西风，风力为≤3。这是最新的天气', details=None)\n",
      "TextGenerationStreamResponse(token=Token(id=0, text='情况', logprob=0.0, special=False), generated_text='\\n 北京目前的天气情况是晴朗的，温度为2℃，湿度为24%，风向为西风，风力为≤3。这是最新的天气情况', details=None)\n",
      "TextGenerationStreamResponse(token=Token(id=0, text='，', logprob=0.0, special=False), generated_text='\\n 北京目前的天气情况是晴朗的，温度为2℃，湿度为24%，风向为西风，风力为≤3。这是最新的天气情况，', details=None)\n",
      "TextGenerationStreamResponse(token=Token(id=0, text='报告', logprob=0.0, special=False), generated_text='\\n 北京目前的天气情况是晴朗的，温度为2℃，湿度为24%，风向为西风，风力为≤3。这是最新的天气情况，报告', details=None)\n",
      "TextGenerationStreamResponse(token=Token(id=0, text='时间为', logprob=0.0, special=False), generated_text='\\n 北京目前的天气情况是晴朗的，温度为2℃，湿度为24%，风向为西风，风力为≤3。这是最新的天气情况，报告时间为', details=None)\n",
      "TextGenerationStreamResponse(token=Token(id=0, text='2', logprob=0.0, special=False), generated_text='\\n 北京目前的天气情况是晴朗的，温度为2℃，湿度为24%，风向为西风，风力为≤3。这是最新的天气情况，报告时间为2', details=None)\n",
      "TextGenerationStreamResponse(token=Token(id=0, text='0', logprob=0.0, special=False), generated_text='\\n 北京目前的天气情况是晴朗的，温度为2℃，湿度为24%，风向为西风，风力为≤3。这是最新的天气情况，报告时间为20', details=None)\n",
      "TextGenerationStreamResponse(token=Token(id=0, text='2', logprob=0.0, special=False), generated_text='\\n 北京目前的天气情况是晴朗的，温度为2℃，湿度为24%，风向为西风，风力为≤3。这是最新的天气情况，报告时间为202', details=None)\n",
      "TextGenerationStreamResponse(token=Token(id=0, text='3', logprob=0.0, special=False), generated_text='\\n 北京目前的天气情况是晴朗的，温度为2℃，湿度为24%，风向为西风，风力为≤3。这是最新的天气情况，报告时间为2023', details=None)\n",
      "TextGenerationStreamResponse(token=Token(id=0, text='-', logprob=0.0, special=False), generated_text='\\n 北京目前的天气情况是晴朗的，温度为2℃，湿度为24%，风向为西风，风力为≤3。这是最新的天气情况，报告时间为2023-', details=None)\n",
      "TextGenerationStreamResponse(token=Token(id=0, text='1', logprob=0.0, special=False), generated_text='\\n 北京目前的天气情况是晴朗的，温度为2℃，湿度为24%，风向为西风，风力为≤3。这是最新的天气情况，报告时间为2023-1', details=None)\n",
      "TextGenerationStreamResponse(token=Token(id=0, text='1', logprob=0.0, special=False), generated_text='\\n 北京目前的天气情况是晴朗的，温度为2℃，湿度为24%，风向为西风，风力为≤3。这是最新的天气情况，报告时间为2023-11', details=None)\n",
      "TextGenerationStreamResponse(token=Token(id=0, text='-', logprob=0.0, special=False), generated_text='\\n 北京目前的天气情况是晴朗的，温度为2℃，湿度为24%，风向为西风，风力为≤3。这是最新的天气情况，报告时间为2023-11-', details=None)\n",
      "TextGenerationStreamResponse(token=Token(id=0, text='3', logprob=0.0, special=False), generated_text='\\n 北京目前的天气情况是晴朗的，温度为2℃，湿度为24%，风向为西风，风力为≤3。这是最新的天气情况，报告时间为2023-11-3', details=None)\n",
      "TextGenerationStreamResponse(token=Token(id=0, text='0', logprob=0.0, special=False), generated_text='\\n 北京目前的天气情况是晴朗的，温度为2℃，湿度为24%，风向为西风，风力为≤3。这是最新的天气情况，报告时间为2023-11-30', details=None)\n",
      "TextGenerationStreamResponse(token=Token(id=0, text=' ', logprob=0.0, special=False), generated_text='\\n 北京目前的天气情况是晴朗的，温度为2℃，湿度为24%，风向为西风，风力为≤3。这是最新的天气情况，报告时间为2023-11-30 ', details=None)\n",
      "TextGenerationStreamResponse(token=Token(id=0, text='1', logprob=0.0, special=False), generated_text='\\n 北京目前的天气情况是晴朗的，温度为2℃，湿度为24%，风向为西风，风力为≤3。这是最新的天气情况，报告时间为2023-11-30 1', details=None)\n",
      "TextGenerationStreamResponse(token=Token(id=0, text='7', logprob=0.0, special=False), generated_text='\\n 北京目前的天气情况是晴朗的，温度为2℃，湿度为24%，风向为西风，风力为≤3。这是最新的天气情况，报告时间为2023-11-30 17', details=None)\n",
      "TextGenerationStreamResponse(token=Token(id=0, text=':', logprob=0.0, special=False), generated_text='\\n 北京目前的天气情况是晴朗的，温度为2℃，湿度为24%，风向为西风，风力为≤3。这是最新的天气情况，报告时间为2023-11-30 17:', details=None)\n",
      "TextGenerationStreamResponse(token=Token(id=0, text='4', logprob=0.0, special=False), generated_text='\\n 北京目前的天气情况是晴朗的，温度为2℃，湿度为24%，风向为西风，风力为≤3。这是最新的天气情况，报告时间为2023-11-30 17:4', details=None)\n",
      "TextGenerationStreamResponse(token=Token(id=0, text='0', logprob=0.0, special=False), generated_text='\\n 北京目前的天气情况是晴朗的，温度为2℃，湿度为24%，风向为西风，风力为≤3。这是最新的天气情况，报告时间为2023-11-30 17:40', details=None)\n",
      "TextGenerationStreamResponse(token=Token(id=0, text=':', logprob=0.0, special=False), generated_text='\\n 北京目前的天气情况是晴朗的，温度为2℃，湿度为24%，风向为西风，风力为≤3。这是最新的天气情况，报告时间为2023-11-30 17:40:', details=None)\n",
      "TextGenerationStreamResponse(token=Token(id=0, text='1', logprob=0.0, special=False), generated_text='\\n 北京目前的天气情况是晴朗的，温度为2℃，湿度为24%，风向为西风，风力为≤3。这是最新的天气情况，报告时间为2023-11-30 17:40:1', details=None)\n",
      "TextGenerationStreamResponse(token=Token(id=0, text='0', logprob=0.0, special=False), generated_text='\\n 北京目前的天气情况是晴朗的，温度为2℃，湿度为24%，风向为西风，风力为≤3。这是最新的天气情况，报告时间为2023-11-30 17:40:10', details=None)\n",
      "TextGenerationStreamResponse(token=Token(id=0, text='。', logprob=0.0, special=False), generated_text='\\n 北京目前的天气情况是晴朗的，温度为2℃，湿度为24%，风向为西风，风力为≤3。这是最新的天气情况，报告时间为2023-11-30 17:40:10。', details=None)\n",
      "TextGenerationStreamResponse(token=Token(id=0, text='', logprob=0.0, special=False), generated_text='\\n 北京目前的天气情况是晴朗的，温度为2℃，湿度为24%，风向为西风，风力为≤3。这是最新的天气情况，报告时间为2023-11-30 17:40:10。', details=None)\n",
      "\n",
      " 北京目前的天气情况是晴朗的，温度为2℃，湿度为24%，风向为西风，风力为≤3。这是最新的天气情况，报告时间为2023-11-30 17:40:10。\n"
     ]
    }
   ],
   "source": [
    "output_text = ''\n",
    "for response in client.generate_stream(\n",
    "                system=None,\n",
    "                tools=tools,\n",
    "                history=history,\n",
    "                do_sample=True,\n",
    "                max_length=MAX_LENGTH,\n",
    "                temperature=1.0,\n",
    "                top_p=0.95,\n",
    "                stop_sequences=[str(r) for r in (Role.USER, Role.OBSERVATION)],\n",
    "            ):\n",
    "    output_text += response.token.text\n",
    "    print(response)\n",
    "\n",
    "history.append(Conversation(Role.ASSISTANT, postprocess_text(output_text),))\n",
    "print(output_text)"
   ]
  },
  {
   "cell_type": "code",
   "execution_count": 10,
   "id": "fbded1d1-5e3a-499e-8946-a4952f335ad5",
   "metadata": {},
   "outputs": [
    {
     "data": {
      "text/plain": [
       "[Conversation(role=<Role.USER: 2>, content='查查北京的天气情况', tool=None, image=None),\n",
       " Conversation(role=<Role.TOOL: 4>, content=\"```python\\ntool_call(city_name='北京')\\n```\", tool='get_weather', image=None),\n",
       " Conversation(role=<Role.OBSERVATION: 6>, content=\"{'lives': {'province': '北京', 'city': '北京市', 'temperature': '2', 'humidity': '24', 'weather': '晴', 'winddirection': '西', 'windpower': '≤3', 'reporttime': '2023-11-30 17:40:10'}}\", tool=None, image=None),\n",
       " Conversation(role=<Role.ASSISTANT: 3>, content='北京目前的天气情况是晴朗的，温度为2℃，湿度为24%，风向为西风，风力为≤3。这是最新的天气情况，报告时间为2023-11-30 17:40:10。', tool=None, image=None)]"
      ]
     },
     "execution_count": 10,
     "metadata": {},
     "output_type": "execute_result"
    }
   ],
   "source": [
    "history"
   ]
  },
  {
   "cell_type": "code",
   "execution_count": null,
   "id": "859d8ea8-f58e-4c9f-9868-aaabf262ace7",
   "metadata": {},
   "outputs": [],
   "source": []
  }
 ],
 "metadata": {
  "kernelspec": {
   "display_name": "zzd-env",
   "language": "python",
   "name": "zzd-env"
  },
  "language_info": {
   "codemirror_mode": {
    "name": "ipython",
    "version": 3
   },
   "file_extension": ".py",
   "mimetype": "text/x-python",
   "name": "python",
   "nbconvert_exporter": "python",
   "pygments_lexer": "ipython3",
   "version": "3.10.13"
  }
 },
 "nbformat": 4,
 "nbformat_minor": 5
}
