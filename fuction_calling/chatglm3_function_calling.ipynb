{
 "cells": [
  {
   "cell_type": "code",
   "execution_count": 1,
   "id": "d1537884-1d7c-49ac-a46c-990d055db57f",
   "metadata": {},
   "outputs": [
    {
     "data": {
      "application/vnd.jupyter.widget-view+json": {
       "model_id": "1b4d642e3fc44d198c47cd24c7ea3d48",
       "version_major": 2,
       "version_minor": 0
      },
      "text/plain": [
       "Loading checkpoint shards:   0%|          | 0/7 [00:00<?, ?it/s]"
      ]
     },
     "metadata": {},
     "output_type": "display_data"
    }
   ],
   "source": [
    "import os\n",
    "os.environ['CUDA_VISIBLE_DEVICES'] = '0'\n",
    "from client import HFClient\n",
    "MAX_LENGTH = 4096\n",
    "TRUNCATE_LENGTH = 1024\n",
    "\n",
    "MODEL_PATH = TOKENIZER_PATH = \"THUDM/chatglm3-6b\"\n",
    "client = HFClient(MODEL_PATH, TOKENIZER_PATH, None)"
   ]
  },
  {
   "cell_type": "markdown",
   "id": "256a667d",
   "metadata": {},
   "source": [
    "## Step1, 提问，生成工具调用"
   ]
  },
  {
   "cell_type": "code",
   "execution_count": 7,
   "id": "cacccf77-8016-4287-b5f1-303562f50794",
   "metadata": {},
   "outputs": [
    {
     "name": "stdout",
     "output_type": "stream",
     "text": [
      "input_shape> torch.Size([1, 283])\n",
      "get_weather\n",
      " ```python\n",
      "tool_call(city_name='北京')\n",
      "```<|observation|>\n"
     ]
    }
   ],
   "source": [
    "from tqdm import tqdm\n",
    "from conversation import postprocess_text, preprocess_text, Conversation, Role\n",
    "from tool_registry import dispatch_tool, get_tools\n",
    "tools = get_tools()\n",
    "\n",
    "query = '北京天气怎么样？'\n",
    "history: list[Conversation] = []\n",
    "history.append(Conversation(Role.USER, query))\n",
    "\n",
    "out_text = ''\n",
    "for response in client.generate_stream(\n",
    "                system=None,\n",
    "                tools=tools,\n",
    "                history=history,\n",
    "                do_sample=True,\n",
    "                max_length=MAX_LENGTH,\n",
    "                temperature=1.0,\n",
    "                top_p=0.95,\n",
    "                stop_sequences=[str(r) for r in (Role.USER, Role.OBSERVATION)],\n",
    "            ):\n",
    "    out_text += response.token.text\n",
    "print(out_text)           "
   ]
  },
  {
   "cell_type": "markdown",
   "id": "ba46b1cb",
   "metadata": {},
   "source": [
    "## Step2, 解析生成的代码"
   ]
  },
  {
   "cell_type": "code",
   "execution_count": 9,
   "id": "59daa88a-5008-4005-ab79-0da1f4ece16e",
   "metadata": {},
   "outputs": [
    {
     "data": {
      "text/plain": [
       "[Conversation(role=<Role.USER: 2>, content='北京天气怎么样？', tool=None, image=None),\n",
       " Conversation(role=<Role.TOOL: 4>, content=\"```python\\ntool_call(city_name='北京')\\n```\", tool='get_weather', image=None)]"
      ]
     },
     "execution_count": 9,
     "metadata": {},
     "output_type": "execute_result"
    }
   ],
   "source": [
    "tool, *output_text = out_text.strip().split('\\n')\n",
    "output_text = '\\n'.join(output_text)\n",
    "history.append(Conversation(Role.TOOL,postprocess_text(output_text),tool,))\n",
    "history"
   ]
  },
  {
   "cell_type": "markdown",
   "id": "20000949",
   "metadata": {},
   "source": [
    "## Step3, 执行 Function"
   ]
  },
  {
   "cell_type": "code",
   "execution_count": 10,
   "id": "d5df0846-8a56-40a2-affe-e7b3f3827cf9",
   "metadata": {},
   "outputs": [
    {
     "name": "stdout",
     "output_type": "stream",
     "text": [
      "tool_call(city_name='北京')\n",
      "\n",
      "=== Tool call:\n",
      "()\n",
      "{'city_name': '北京'}\n",
      "{'lives': {'province': '北京', 'city': '北京市', 'temperature': '2', 'humidity': '16', 'weather': '多云', 'winddirection': '东北', 'windpower': '≤3', 'reporttime': '2024-02-19 17:08:31'}}\n"
     ]
    }
   ],
   "source": [
    "import re\n",
    "\n",
    "def extract_code(text: str) -> str:\n",
    "    pattern = r'```([^\\n]*)\\n(.*?)```'\n",
    "    matches = re.findall(pattern, text, re.DOTALL)\n",
    "    return matches[-1][1]\n",
    "\n",
    "def tool_call(*args, **kwargs) -> dict:\n",
    "    print(\"=== Tool call:\")\n",
    "    print(args)\n",
    "    print(kwargs)\n",
    "    return kwargs\n",
    "\n",
    "code = extract_code(output_text)\n",
    "print(code)\n",
    "\n",
    "args = eval(code, {'tool_call': tool_call}, {})\n",
    "\n",
    "from tool_registry import dispatch_tool\n",
    "observation = dispatch_tool(tool, args)\n",
    "print(observation)\n",
    "\n",
    "history.append(Conversation(Role.OBSERVATION, observation))"
   ]
  }
 ],
 "metadata": {
  "kernelspec": {
   "display_name": "zzd-env",
   "language": "python",
   "name": "zzd-env"
  },
  "language_info": {
   "codemirror_mode": {
    "name": "ipython",
    "version": 3
   },
   "file_extension": ".py",
   "mimetype": "text/x-python",
   "name": "python",
   "nbconvert_exporter": "python",
   "pygments_lexer": "ipython3",
   "version": "3.10.13"
  }
 },
 "nbformat": 4,
 "nbformat_minor": 5
}
