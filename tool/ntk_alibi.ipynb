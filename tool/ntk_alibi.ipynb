{
 "cells": [
  {
   "cell_type": "code",
   "execution_count": 14,
   "id": "2eb6feeb-3e8a-4acb-8959-bfd294e85148",
   "metadata": {},
   "outputs": [
    {
     "name": "stdout",
     "output_type": "stream",
     "text": [
      "tensor(1.0226)\n",
      "tensor(0.8409)\n",
      "tensor([0.8409, 0.6915, 0.5686, 0.4676, 0.3845, 0.3162, 0.2600, 0.2138, 0.1758,\n",
      "        0.1446, 0.1189, 0.0977, 0.0804, 0.0661, 0.0543, 0.0447, 0.0367, 0.0302,\n",
      "        0.0248, 0.0204, 0.0168, 0.0138, 0.0114, 0.0093, 0.0077, 0.0063, 0.0052,\n",
      "        0.0043, 0.0035, 0.0029, 0.0024, 0.0020])\n",
      "tensor([[[0.0000e+00, 8.4082e-01, 1.6816e+00,  ..., 1.0512e+02,\n",
      "          1.0594e+02, 1.0681e+02]],\n",
      "\n",
      "        [[0.0000e+00, 6.9141e-01, 1.3828e+00,  ..., 8.6438e+01,\n",
      "          8.7125e+01, 8.7812e+01]],\n",
      "\n",
      "        [[0.0000e+00, 5.6836e-01, 1.1367e+00,  ..., 7.1062e+01,\n",
      "          7.1625e+01, 7.2188e+01]],\n",
      "\n",
      "        ...,\n",
      "\n",
      "        [[0.0000e+00, 2.8877e-03, 5.7755e-03,  ..., 3.6108e-01,\n",
      "          3.6401e-01, 3.6694e-01]],\n",
      "\n",
      "        [[0.0000e+00, 2.3746e-03, 4.7493e-03,  ..., 2.9688e-01,\n",
      "          2.9932e-01, 3.0176e-01]],\n",
      "\n",
      "        [[0.0000e+00, 1.9531e-03, 3.9062e-03,  ..., 2.4414e-01,\n",
      "          2.4609e-01, 2.4805e-01]]], dtype=torch.float16)\n",
      "\n"
     ]
    }
   ],
   "source": [
    "\n",
    "import math\n",
    "import torch\n",
    "\n",
    "\n",
    "def _get_interleave(n):\n",
    "    def _get_interleave_power_of_2(n):\n",
    "        start = 2 ** (-(2 ** -(math.log2(n) - 3)))\n",
    "        ratio = start\n",
    "        return [start * ratio**i for i in range(n)]\n",
    "\n",
    "    if math.log2(n).is_integer():\n",
    "        return _get_interleave_power_of_2(n)\n",
    "    else:\n",
    "        closest_power_of_2 = 2 ** math.floor(math.log2(n))\n",
    "        return (\n",
    "            _get_interleave_power_of_2(closest_power_of_2)\n",
    "            + _get_interleave(2 * closest_power_of_2)[0::2][: n - closest_power_of_2]\n",
    "        )\n",
    "\n",
    "\n",
    "def _fill_with_neg_inf(t):\n",
    "    \"\"\"FP16-compatible function that fills a tensor with -inf.\"\"\"\n",
    "    return t.float().fill_(float(\"-inf\")).type_as(t)\n",
    "\n",
    "\n",
    "def _buffered_future_mask(tensor, maxpos, alibi, attn_heads):\n",
    "    _future_mask = torch.triu(_fill_with_neg_inf(torch.zeros([maxpos, maxpos])), 1)\n",
    "    _future_mask = _future_mask.unsqueeze(0) + alibi\n",
    "    new_future_mask = _future_mask.to(tensor)\n",
    "    return new_future_mask[: tensor.shape[0] * attn_heads, :maxpos, :maxpos]\n",
    "\n",
    "\n",
    "def build_dynamically_alibi_tensor(num_heads, max_pos, train_seq_len=64) -> torch.Tensor:\n",
    "    \"\"\"Psuedo code for Dynamic NTK-ALiBi.\"\"\"\n",
    "\n",
    "    # dynamic ntk factor according to actual sequence length\n",
    "    a0 = 1.0\n",
    "    train_seq_len = train_seq_len\n",
    "    a = a0 * torch.tensor(max_pos) / train_seq_len  # [batch, 1]\n",
    "    a = a.masked_fill(a < 1.0, 1.0)  # dynamic step 1: dynamic ntk scaling factor\n",
    "\n",
    "    scale = a ** (1.0 / (num_heads-1))  # dynamic step 2: coefficient b, for computation convenience\n",
    "    print(scale)\n",
    "    closest_power_of_2 = 2 ** math.floor(math.log2(num_heads))\n",
    "    base = torch.tensor(\n",
    "        2 ** (-(2 ** -(math.log2(closest_power_of_2) - 3))), dtype=torch.float32\n",
    "    )\n",
    "    print(base)\n",
    "    base = base / scale  # dynamic step 3: divide b to alibi base\n",
    "    powers = torch.arange(1, 1 + closest_power_of_2, dtype=torch.int32)\n",
    "    slopes = torch.pow(base, powers)\n",
    "    slopes = slopes * scale  # dynamic step 4: fix alibi bias m_h by multiplying b\n",
    "\n",
    "    if closest_power_of_2 != num_heads:  # todo: fix ntk when num_heads is not power of 2\n",
    "        extra_base = torch.tensor(\n",
    "            2 ** (-(2 ** -(math.log2(2 * closest_power_of_2) - 3))), dtype=torch.float32\n",
    "        )\n",
    "        num_remaining_heads = min(closest_power_of_2, num_heads - closest_power_of_2)\n",
    "        extra_powers = torch.arange(1, 1 + 2 * num_remaining_heads, 2, dtype=torch.int32)\n",
    "        slopes = torch.cat([slopes, torch.pow(extra_base, extra_powers)], dim=0)\n",
    "    return slopes\n",
    "\n",
    "def _gen_alibi_mask(n_head, max_pos):\n",
    "    \"\"\"used in inference only\"\"\"\n",
    "    slopes = torch.Tensor(build_dynamically_alibi_tensor(n_head, max_pos))\n",
    "    print(slopes)\n",
    "    alibi = slopes.unsqueeze(1).unsqueeze(1) * torch.arange(max_pos).unsqueeze(0).unsqueeze(0).expand(\n",
    "        n_head, -1, -1)\n",
    "    alibi = alibi.view(n_head, 1, max_pos).to(torch.float16)\n",
    "    print(alibi)\n",
    "    alibi_mask = torch.triu(\n",
    "        _fill_with_neg_inf(torch.zeros([max_pos, max_pos])), 1\n",
    "    )\n",
    "    print()\n",
    "    alibi_mask = alibi_mask.unsqueeze(0) + alibi\n",
    "    return alibi_mask\n",
    "\n",
    "res =  _gen_alibi_mask(32, 128)"
   ]
  },
  {
   "cell_type": "code",
   "execution_count": 13,
   "id": "2bf79640-6935-428e-9ab0-148ffba0c5fe",
   "metadata": {},
   "outputs": [
    {
     "name": "stdout",
     "output_type": "stream",
     "text": [
      "tensor([0.8409, 0.7071, 0.5946, 0.5000, 0.4204, 0.3536, 0.2973, 0.2500, 0.2102,\n",
      "        0.1768, 0.1487, 0.1250, 0.1051, 0.0884, 0.0743, 0.0625, 0.0526, 0.0442,\n",
      "        0.0372, 0.0312, 0.0263, 0.0221, 0.0186, 0.0156, 0.0131, 0.0110, 0.0093,\n",
      "        0.0078, 0.0066, 0.0055, 0.0046, 0.0039])\n"
     ]
    }
   ],
   "source": [
    "def _gen_alibi_mask0(n_head, max_pos):\n",
    "    slopes = torch.Tensor(_get_interleave(n_head))\n",
    "    print(slopes)\n",
    "    position_point = torch.arange(max_pos) - max_pos + 1\n",
    "    position_point = position_point.unsqueeze(0).unsqueeze(0).expand(n_head, -1, -1)\n",
    "    diag = torch.diag(position_point[0])\n",
    "    position_point = position_point - diag.unsqueeze(0).unsqueeze(0).transpose(-1, -2)\n",
    "    alibi = slopes.unsqueeze(1).unsqueeze(1) * position_point\n",
    "    alibi = alibi.view(n_head, 1, max_pos)\n",
    "    alibi_mask = torch.triu(_fill_with_neg_inf(torch.zeros([max_pos, max_pos])), 1)\n",
    "    alibi_mask = alibi_mask.unsqueeze(0) + alibi\n",
    "    return alibi_mask\n",
    "\n",
    "res0 =  _gen_alibi_mask0(32, 128)"
   ]
  },
  {
   "cell_type": "code",
   "execution_count": 3,
   "id": "e3565753-fd5b-446d-bd85-e80e997ad40d",
   "metadata": {},
   "outputs": [
    {
     "data": {
      "text/plain": [
       "tensor([[[0.0000e+00,       -inf,       -inf,  ...,       -inf,\n",
       "                -inf,       -inf],\n",
       "         [0.0000e+00, 7.0703e-01,       -inf,  ...,       -inf,\n",
       "                -inf,       -inf],\n",
       "         [0.0000e+00, 7.0703e-01, 1.4141e+00,  ...,       -inf,\n",
       "                -inf,       -inf],\n",
       "         ...,\n",
       "         [0.0000e+00, 7.0703e-01, 1.4141e+00,  ..., 8.8375e+01,\n",
       "                -inf,       -inf],\n",
       "         [0.0000e+00, 7.0703e-01, 1.4141e+00,  ..., 8.8375e+01,\n",
       "          8.9125e+01,       -inf],\n",
       "         [0.0000e+00, 7.0703e-01, 1.4141e+00,  ..., 8.8375e+01,\n",
       "          8.9125e+01, 8.9812e+01]],\n",
       "\n",
       "        [[0.0000e+00,       -inf,       -inf,  ...,       -inf,\n",
       "                -inf,       -inf],\n",
       "         [0.0000e+00, 4.7754e-01,       -inf,  ...,       -inf,\n",
       "                -inf,       -inf],\n",
       "         [0.0000e+00, 4.7754e-01, 9.5508e-01,  ...,       -inf,\n",
       "                -inf,       -inf],\n",
       "         ...,\n",
       "         [0.0000e+00, 4.7754e-01, 9.5508e-01,  ..., 5.9688e+01,\n",
       "                -inf,       -inf],\n",
       "         [0.0000e+00, 4.7754e-01, 9.5508e-01,  ..., 5.9688e+01,\n",
       "          6.0156e+01,       -inf],\n",
       "         [0.0000e+00, 4.7754e-01, 9.5508e-01,  ..., 5.9688e+01,\n",
       "          6.0156e+01, 6.0625e+01]],\n",
       "\n",
       "        [[0.0000e+00,       -inf,       -inf,  ...,       -inf,\n",
       "                -inf,       -inf],\n",
       "         [0.0000e+00, 3.2227e-01,       -inf,  ...,       -inf,\n",
       "                -inf,       -inf],\n",
       "         [0.0000e+00, 3.2227e-01, 6.4453e-01,  ...,       -inf,\n",
       "                -inf,       -inf],\n",
       "         ...,\n",
       "         [0.0000e+00, 3.2227e-01, 6.4453e-01,  ..., 4.0281e+01,\n",
       "                -inf,       -inf],\n",
       "         [0.0000e+00, 3.2227e-01, 6.4453e-01,  ..., 4.0281e+01,\n",
       "          4.0625e+01,       -inf],\n",
       "         [0.0000e+00, 3.2227e-01, 6.4453e-01,  ..., 4.0281e+01,\n",
       "          4.0625e+01, 4.0938e+01]],\n",
       "\n",
       "        ...,\n",
       "\n",
       "        [[0.0000e+00,       -inf,       -inf,  ...,       -inf,\n",
       "                -inf,       -inf],\n",
       "         [0.0000e+00, 4.2839e-03,       -inf,  ...,       -inf,\n",
       "                -inf,       -inf],\n",
       "         [0.0000e+00, 4.2839e-03, 8.5678e-03,  ...,       -inf,\n",
       "                -inf,       -inf],\n",
       "         ...,\n",
       "         [0.0000e+00, 4.2839e-03, 8.5678e-03,  ..., 5.3564e-01,\n",
       "                -inf,       -inf],\n",
       "         [0.0000e+00, 4.2839e-03, 8.5678e-03,  ..., 5.3564e-01,\n",
       "          5.4004e-01,       -inf],\n",
       "         [0.0000e+00, 4.2839e-03, 8.5678e-03,  ..., 5.3564e-01,\n",
       "          5.4004e-01, 5.4395e-01]],\n",
       "\n",
       "        [[0.0000e+00,       -inf,       -inf,  ...,       -inf,\n",
       "                -inf,       -inf],\n",
       "         [0.0000e+00, 2.8934e-03,       -inf,  ...,       -inf,\n",
       "                -inf,       -inf],\n",
       "         [0.0000e+00, 2.8934e-03, 5.7869e-03,  ...,       -inf,\n",
       "                -inf,       -inf],\n",
       "         ...,\n",
       "         [0.0000e+00, 2.8934e-03, 5.7869e-03,  ..., 3.6157e-01,\n",
       "                -inf,       -inf],\n",
       "         [0.0000e+00, 2.8934e-03, 5.7869e-03,  ..., 3.6157e-01,\n",
       "          3.6450e-01,       -inf],\n",
       "         [0.0000e+00, 2.8934e-03, 5.7869e-03,  ..., 3.6157e-01,\n",
       "          3.6450e-01, 3.6743e-01]],\n",
       "\n",
       "        [[0.0000e+00,       -inf,       -inf,  ...,       -inf,\n",
       "                -inf,       -inf],\n",
       "         [0.0000e+00, 1.9531e-03,       -inf,  ...,       -inf,\n",
       "                -inf,       -inf],\n",
       "         [0.0000e+00, 1.9531e-03, 3.9062e-03,  ...,       -inf,\n",
       "                -inf,       -inf],\n",
       "         ...,\n",
       "         [0.0000e+00, 1.9531e-03, 3.9062e-03,  ..., 2.4414e-01,\n",
       "                -inf,       -inf],\n",
       "         [0.0000e+00, 1.9531e-03, 3.9062e-03,  ..., 2.4414e-01,\n",
       "          2.4609e-01,       -inf],\n",
       "         [0.0000e+00, 1.9531e-03, 3.9062e-03,  ..., 2.4414e-01,\n",
       "          2.4609e-01, 2.4805e-01]]])"
      ]
     },
     "execution_count": 3,
     "metadata": {},
     "output_type": "execute_result"
    }
   ],
   "source": [
    "res"
   ]
  },
  {
   "cell_type": "code",
   "execution_count": 7,
   "id": "2ca5c261-6d34-47fd-9b71-cd09618ec6ef",
   "metadata": {},
   "outputs": [
    {
     "data": {
      "text/plain": [
       "tensor([[[0.0000e+00,       -inf,       -inf,  ...,       -inf,\n",
       "                -inf,       -inf],\n",
       "         [0.0000e+00, 7.0711e-01,       -inf,  ...,       -inf,\n",
       "                -inf,       -inf],\n",
       "         [0.0000e+00, 7.0711e-01, 1.4142e+00,  ...,       -inf,\n",
       "                -inf,       -inf],\n",
       "         ...,\n",
       "         [0.0000e+00, 7.0711e-01, 1.4142e+00,  ..., 8.8388e+01,\n",
       "                -inf,       -inf],\n",
       "         [0.0000e+00, 7.0711e-01, 1.4142e+00,  ..., 8.8388e+01,\n",
       "          8.9095e+01,       -inf],\n",
       "         [0.0000e+00, 7.0711e-01, 1.4142e+00,  ..., 8.8388e+01,\n",
       "          8.9095e+01, 8.9803e+01]],\n",
       "\n",
       "        [[0.0000e+00,       -inf,       -inf,  ...,       -inf,\n",
       "                -inf,       -inf],\n",
       "         [0.0000e+00, 5.0000e-01,       -inf,  ...,       -inf,\n",
       "                -inf,       -inf],\n",
       "         [0.0000e+00, 5.0000e-01, 1.0000e+00,  ...,       -inf,\n",
       "                -inf,       -inf],\n",
       "         ...,\n",
       "         [0.0000e+00, 5.0000e-01, 1.0000e+00,  ..., 6.2500e+01,\n",
       "                -inf,       -inf],\n",
       "         [0.0000e+00, 5.0000e-01, 1.0000e+00,  ..., 6.2500e+01,\n",
       "          6.3000e+01,       -inf],\n",
       "         [0.0000e+00, 5.0000e-01, 1.0000e+00,  ..., 6.2500e+01,\n",
       "          6.3000e+01, 6.3500e+01]],\n",
       "\n",
       "        [[0.0000e+00,       -inf,       -inf,  ...,       -inf,\n",
       "                -inf,       -inf],\n",
       "         [0.0000e+00, 3.5355e-01,       -inf,  ...,       -inf,\n",
       "                -inf,       -inf],\n",
       "         [0.0000e+00, 3.5355e-01, 7.0711e-01,  ...,       -inf,\n",
       "                -inf,       -inf],\n",
       "         ...,\n",
       "         [0.0000e+00, 3.5355e-01, 7.0711e-01,  ..., 4.4194e+01,\n",
       "                -inf,       -inf],\n",
       "         [0.0000e+00, 3.5355e-01, 7.0711e-01,  ..., 4.4194e+01,\n",
       "          4.4548e+01,       -inf],\n",
       "         [0.0000e+00, 3.5355e-01, 7.0711e-01,  ..., 4.4194e+01,\n",
       "          4.4548e+01, 4.4901e+01]],\n",
       "\n",
       "        ...,\n",
       "\n",
       "        [[0.0000e+00,       -inf,       -inf,  ...,       -inf,\n",
       "                -inf,       -inf],\n",
       "         [0.0000e+00, 7.8125e-03,       -inf,  ...,       -inf,\n",
       "                -inf,       -inf],\n",
       "         [0.0000e+00, 7.8125e-03, 1.5625e-02,  ...,       -inf,\n",
       "                -inf,       -inf],\n",
       "         ...,\n",
       "         [0.0000e+00, 7.8125e-03, 1.5625e-02,  ..., 9.7656e-01,\n",
       "                -inf,       -inf],\n",
       "         [0.0000e+00, 7.8125e-03, 1.5625e-02,  ..., 9.7656e-01,\n",
       "          9.8438e-01,       -inf],\n",
       "         [0.0000e+00, 7.8125e-03, 1.5625e-02,  ..., 9.7656e-01,\n",
       "          9.8438e-01, 9.9219e-01]],\n",
       "\n",
       "        [[0.0000e+00,       -inf,       -inf,  ...,       -inf,\n",
       "                -inf,       -inf],\n",
       "         [0.0000e+00, 5.5243e-03,       -inf,  ...,       -inf,\n",
       "                -inf,       -inf],\n",
       "         [0.0000e+00, 5.5243e-03, 1.1049e-02,  ...,       -inf,\n",
       "                -inf,       -inf],\n",
       "         ...,\n",
       "         [0.0000e+00, 5.5243e-03, 1.1049e-02,  ..., 6.9053e-01,\n",
       "                -inf,       -inf],\n",
       "         [0.0000e+00, 5.5243e-03, 1.1049e-02,  ..., 6.9053e-01,\n",
       "          6.9606e-01,       -inf],\n",
       "         [0.0000e+00, 5.5243e-03, 1.1049e-02,  ..., 6.9053e-01,\n",
       "          6.9606e-01, 7.0158e-01]],\n",
       "\n",
       "        [[0.0000e+00,       -inf,       -inf,  ...,       -inf,\n",
       "                -inf,       -inf],\n",
       "         [0.0000e+00, 3.9062e-03,       -inf,  ...,       -inf,\n",
       "                -inf,       -inf],\n",
       "         [0.0000e+00, 3.9062e-03, 7.8125e-03,  ...,       -inf,\n",
       "                -inf,       -inf],\n",
       "         ...,\n",
       "         [0.0000e+00, 3.9062e-03, 7.8125e-03,  ..., 4.8828e-01,\n",
       "                -inf,       -inf],\n",
       "         [0.0000e+00, 3.9062e-03, 7.8125e-03,  ..., 4.8828e-01,\n",
       "          4.9219e-01,       -inf],\n",
       "         [0.0000e+00, 3.9062e-03, 7.8125e-03,  ..., 4.8828e-01,\n",
       "          4.9219e-01, 4.9609e-01]]])"
      ]
     },
     "execution_count": 7,
     "metadata": {},
     "output_type": "execute_result"
    }
   ],
   "source": [
    "res0"
   ]
  },
  {
   "cell_type": "code",
   "execution_count": 18,
   "id": "4c6206e7-1625-404b-b52a-d89716caf5ae",
   "metadata": {},
   "outputs": [
    {
     "data": {
      "text/plain": [
       "0.8408964152537146"
      ]
     },
     "execution_count": 18,
     "metadata": {},
     "output_type": "execute_result"
    }
   ],
   "source": [
    "1/(2**(1/4))"
   ]
  },
  {
   "cell_type": "code",
   "execution_count": 23,
   "id": "566cdc4d-d60b-4c1c-9e8e-843554ef8fcb",
   "metadata": {},
   "outputs": [
    {
     "data": {
      "text/plain": [
       "0.5685957573544732"
      ]
     },
     "execution_count": 23,
     "metadata": {},
     "output_type": "execute_result"
    }
   ],
   "source": [
    "0.5946/2**(2/31)"
   ]
  },
  {
   "cell_type": "code",
   "execution_count": 25,
   "id": "c7217545-0e9a-435a-8cdc-42a924c5d881",
   "metadata": {},
   "outputs": [
    {
     "data": {
      "text/plain": [
       "Text(0.5, 0, 'Position')"
      ]
     },
     "execution_count": 25,
     "metadata": {},
     "output_type": "execute_result"
    },
    {
     "data": {
      "image/png": "[encoded data removed]",
      "text/plain": [
       "<Figure size 640x480 with 1 Axes>"
      ]
     },
     "metadata": {},
     "output_type": "display_data"
    }
   ],
   "source": [
    "import numpy as np\n",
    "import matplotlib.pyplot as plt\n",
    "\n",
    "slope0 = [0.8409, 0.6915, 0.5686, 0.4676, 0.3845, 0.3162, 0.2600, 0.2138, 0.1758,\n",
    "        0.1446, 0.1189, 0.0977, 0.0804, 0.0661, 0.0543, 0.0447, 0.0367, 0.0302,\n",
    "        0.0248, 0.0204, 0.0168, 0.0138, 0.0114, 0.0093, 0.0077, 0.0063, 0.0052,\n",
    "        0.0043, 0.0035, 0.0029, 0.0024, 0.0020]\n",
    "\n",
    "slope1 = [0.8409, 0.7071, 0.5946, 0.5000, 0.4204, 0.3536, 0.2973, 0.2500, 0.2102,\n",
    "        0.1768, 0.1487, 0.1250, 0.1051, 0.0884, 0.0743, 0.0625, 0.0526, 0.0442,\n",
    "        0.0372, 0.0312, 0.0263, 0.0221, 0.0186, 0.0156, 0.0131, 0.0110, 0.0093,\n",
    "        0.0078, 0.0066, 0.0055, 0.0046, 0.0039]\n",
    "\n",
    "k = np.arange(0, len(res), 1)\n",
    "plt.plot(k, slope1)\n",
    "plt.plot(k, slope0)\n",
    "# plt.title('i = ' + str(x))\n",
    "plt.xlabel('Position')\n"
   ]
  },
  {
   "cell_type": "code",
   "execution_count": null,
   "id": "87249073-a32d-4574-9cd4-41c90464cfef",
   "metadata": {},
   "outputs": [],
   "source": []
  }
 ],
 "metadata": {
  "kernelspec": {
   "display_name": "zzd-env",
   "language": "python",
   "name": "zzd-env"
  },
  "language_info": {
   "codemirror_mode": {
    "name": "ipython",
    "version": 3
   },
   "file_extension": ".py",
   "mimetype": "text/x-python",
   "name": "python",
   "nbconvert_exporter": "python",
   "pygments_lexer": "ipython3",
   "version": "3.10.13"
  }
 },
 "nbformat": 4,
 "nbformat_minor": 5
}
